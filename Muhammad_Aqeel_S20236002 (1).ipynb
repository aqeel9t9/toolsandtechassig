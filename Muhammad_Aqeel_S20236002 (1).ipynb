{
  "cells": [
    {
      "cell_type": "markdown",
      "metadata": {
        "id": "t6pX9zVBn7BE"
      },
      "source": [
        "# Data Science QUESTION 2\n",
        "\n",
        "  \n",
        "You'll be asked to do some analysis and modeling tasks on a dataset created.  \n",
        "The dataset concerns a video gaming company that has information on its customers and would like to gain more insights on what drives their customers to play for longer hours.  \n",
        "\n",
        "The following tables are provided:"
      ],
      "id": "t6pX9zVBn7BE"
    },
    {
      "cell_type": "code",
      "execution_count": null,
      "metadata": {
        "id": "wxwhlpCDn7BJ"
      },
      "outputs": [],
      "source": [
        "import pandas as pd"
      ],
      "id": "wxwhlpCDn7BJ"
    },
    {
      "cell_type": "code",
      "execution_count": 3,
      "metadata": {
        "id": "b0yN1_Kan7BL"
      },
      "outputs": [],
      "source": [
        "df_districts_house_prices = pd.read_csv(\"df_districts_house_prices.csv\")\n",
        "df_person_data = pd.read_csv(\"df_person_data.csv\")\n",
        "df_person_district = pd.read_csv(\"df_person_district.csv\")"
      ],
      "id": "b0yN1_Kan7BL"
    },
    {
      "cell_type": "markdown",
      "metadata": {
        "id": "j7mqlySYn7BM"
      },
      "source": [
        "df_person_district\n",
        "\n",
        "includes information about each customer (person) and the district they live in\n",
        "\n",
        "- person_id: the person id\n",
        "- district: the name of the district"
      ],
      "id": "j7mqlySYn7BM"
    },
    {
      "cell_type": "code",
      "execution_count": 4,
      "metadata": {
        "colab": {
          "base_uri": "https://localhost:8080/",
          "height": 423
        },
        "id": "AHbhz4NNn7BN",
        "outputId": "6f8f1230-a6a0-49be-c7ea-d9e8de7ca0d6"
      },
      "outputs": [
        {
          "output_type": "execute_result",
          "data": {
            "text/plain": [
              "                                  person_id      district\n",
              "0      50c4c7e2-89a6-440b-a8e3-c44aa2c6150e   Metdunstone\n",
              "1      16f3bafb-9556-434e-adab-cb02f41fe32a  Tashnerspool\n",
              "2      0fa17eee-7214-4609-97fe-dd3093601800  Tashnerspool\n",
              "3      8db4ca66-dfb2-43f2-9c22-aa861dd0d218         Ulven\n",
              "4      51fed64a-375e-417f-94e4-4d27c368ea44     Red Onvey\n",
              "...                                     ...           ...\n",
              "69995  8cbea1e2-3257-4db5-ae59-84faa48cfde2     Bluffssel\n",
              "69996  e099ace5-a760-4362-a9ea-ae8cee590b86   Highnantmar\n",
              "69997  e9b0604e-ec84-4704-8e75-eabfd59ac4fb  Tashnerspool\n",
              "69998  e20f8ec5-0ddf-4674-ac1f-d6280b6640ab   Highnantmar\n",
              "69999  4d86ea85-2eaf-457a-bdba-73ff21830588    San Readma\n",
              "\n",
              "[70000 rows x 2 columns]"
            ],
            "text/html": [
              "\n",
              "  <div id=\"df-806f23a0-68d3-4e78-a027-783782c81715\">\n",
              "    <div class=\"colab-df-container\">\n",
              "      <div>\n",
              "<style scoped>\n",
              "    .dataframe tbody tr th:only-of-type {\n",
              "        vertical-align: middle;\n",
              "    }\n",
              "\n",
              "    .dataframe tbody tr th {\n",
              "        vertical-align: top;\n",
              "    }\n",
              "\n",
              "    .dataframe thead th {\n",
              "        text-align: right;\n",
              "    }\n",
              "</style>\n",
              "<table border=\"1\" class=\"dataframe\">\n",
              "  <thead>\n",
              "    <tr style=\"text-align: right;\">\n",
              "      <th></th>\n",
              "      <th>person_id</th>\n",
              "      <th>district</th>\n",
              "    </tr>\n",
              "  </thead>\n",
              "  <tbody>\n",
              "    <tr>\n",
              "      <th>0</th>\n",
              "      <td>50c4c7e2-89a6-440b-a8e3-c44aa2c6150e</td>\n",
              "      <td>Metdunstone</td>\n",
              "    </tr>\n",
              "    <tr>\n",
              "      <th>1</th>\n",
              "      <td>16f3bafb-9556-434e-adab-cb02f41fe32a</td>\n",
              "      <td>Tashnerspool</td>\n",
              "    </tr>\n",
              "    <tr>\n",
              "      <th>2</th>\n",
              "      <td>0fa17eee-7214-4609-97fe-dd3093601800</td>\n",
              "      <td>Tashnerspool</td>\n",
              "    </tr>\n",
              "    <tr>\n",
              "      <th>3</th>\n",
              "      <td>8db4ca66-dfb2-43f2-9c22-aa861dd0d218</td>\n",
              "      <td>Ulven</td>\n",
              "    </tr>\n",
              "    <tr>\n",
              "      <th>4</th>\n",
              "      <td>51fed64a-375e-417f-94e4-4d27c368ea44</td>\n",
              "      <td>Red Onvey</td>\n",
              "    </tr>\n",
              "    <tr>\n",
              "      <th>...</th>\n",
              "      <td>...</td>\n",
              "      <td>...</td>\n",
              "    </tr>\n",
              "    <tr>\n",
              "      <th>69995</th>\n",
              "      <td>8cbea1e2-3257-4db5-ae59-84faa48cfde2</td>\n",
              "      <td>Bluffssel</td>\n",
              "    </tr>\n",
              "    <tr>\n",
              "      <th>69996</th>\n",
              "      <td>e099ace5-a760-4362-a9ea-ae8cee590b86</td>\n",
              "      <td>Highnantmar</td>\n",
              "    </tr>\n",
              "    <tr>\n",
              "      <th>69997</th>\n",
              "      <td>e9b0604e-ec84-4704-8e75-eabfd59ac4fb</td>\n",
              "      <td>Tashnerspool</td>\n",
              "    </tr>\n",
              "    <tr>\n",
              "      <th>69998</th>\n",
              "      <td>e20f8ec5-0ddf-4674-ac1f-d6280b6640ab</td>\n",
              "      <td>Highnantmar</td>\n",
              "    </tr>\n",
              "    <tr>\n",
              "      <th>69999</th>\n",
              "      <td>4d86ea85-2eaf-457a-bdba-73ff21830588</td>\n",
              "      <td>San Readma</td>\n",
              "    </tr>\n",
              "  </tbody>\n",
              "</table>\n",
              "<p>70000 rows × 2 columns</p>\n",
              "</div>\n",
              "      <button class=\"colab-df-convert\" onclick=\"convertToInteractive('df-806f23a0-68d3-4e78-a027-783782c81715')\"\n",
              "              title=\"Convert this dataframe to an interactive table.\"\n",
              "              style=\"display:none;\">\n",
              "        \n",
              "  <svg xmlns=\"http://www.w3.org/2000/svg\" height=\"24px\"viewBox=\"0 0 24 24\"\n",
              "       width=\"24px\">\n",
              "    <path d=\"M0 0h24v24H0V0z\" fill=\"none\"/>\n",
              "    <path d=\"M18.56 5.44l.94 2.06.94-2.06 2.06-.94-2.06-.94-.94-2.06-.94 2.06-2.06.94zm-11 1L8.5 8.5l.94-2.06 2.06-.94-2.06-.94L8.5 2.5l-.94 2.06-2.06.94zm10 10l.94 2.06.94-2.06 2.06-.94-2.06-.94-.94-2.06-.94 2.06-2.06.94z\"/><path d=\"M17.41 7.96l-1.37-1.37c-.4-.4-.92-.59-1.43-.59-.52 0-1.04.2-1.43.59L10.3 9.45l-7.72 7.72c-.78.78-.78 2.05 0 2.83L4 21.41c.39.39.9.59 1.41.59.51 0 1.02-.2 1.41-.59l7.78-7.78 2.81-2.81c.8-.78.8-2.07 0-2.86zM5.41 20L4 18.59l7.72-7.72 1.47 1.35L5.41 20z\"/>\n",
              "  </svg>\n",
              "      </button>\n",
              "      \n",
              "  <style>\n",
              "    .colab-df-container {\n",
              "      display:flex;\n",
              "      flex-wrap:wrap;\n",
              "      gap: 12px;\n",
              "    }\n",
              "\n",
              "    .colab-df-convert {\n",
              "      background-color: #E8F0FE;\n",
              "      border: none;\n",
              "      border-radius: 50%;\n",
              "      cursor: pointer;\n",
              "      display: none;\n",
              "      fill: #1967D2;\n",
              "      height: 32px;\n",
              "      padding: 0 0 0 0;\n",
              "      width: 32px;\n",
              "    }\n",
              "\n",
              "    .colab-df-convert:hover {\n",
              "      background-color: #E2EBFA;\n",
              "      box-shadow: 0px 1px 2px rgba(60, 64, 67, 0.3), 0px 1px 3px 1px rgba(60, 64, 67, 0.15);\n",
              "      fill: #174EA6;\n",
              "    }\n",
              "\n",
              "    [theme=dark] .colab-df-convert {\n",
              "      background-color: #3B4455;\n",
              "      fill: #D2E3FC;\n",
              "    }\n",
              "\n",
              "    [theme=dark] .colab-df-convert:hover {\n",
              "      background-color: #434B5C;\n",
              "      box-shadow: 0px 1px 3px 1px rgba(0, 0, 0, 0.15);\n",
              "      filter: drop-shadow(0px 1px 2px rgba(0, 0, 0, 0.3));\n",
              "      fill: #FFFFFF;\n",
              "    }\n",
              "  </style>\n",
              "\n",
              "      <script>\n",
              "        const buttonEl =\n",
              "          document.querySelector('#df-806f23a0-68d3-4e78-a027-783782c81715 button.colab-df-convert');\n",
              "        buttonEl.style.display =\n",
              "          google.colab.kernel.accessAllowed ? 'block' : 'none';\n",
              "\n",
              "        async function convertToInteractive(key) {\n",
              "          const element = document.querySelector('#df-806f23a0-68d3-4e78-a027-783782c81715');\n",
              "          const dataTable =\n",
              "            await google.colab.kernel.invokeFunction('convertToInteractive',\n",
              "                                                     [key], {});\n",
              "          if (!dataTable) return;\n",
              "\n",
              "          const docLinkHtml = 'Like what you see? Visit the ' +\n",
              "            '<a target=\"_blank\" href=https://colab.research.google.com/notebooks/data_table.ipynb>data table notebook</a>'\n",
              "            + ' to learn more about interactive tables.';\n",
              "          element.innerHTML = '';\n",
              "          dataTable['output_type'] = 'display_data';\n",
              "          await google.colab.output.renderOutput(dataTable, element);\n",
              "          const docLink = document.createElement('div');\n",
              "          docLink.innerHTML = docLinkHtml;\n",
              "          element.appendChild(docLink);\n",
              "        }\n",
              "      </script>\n",
              "    </div>\n",
              "  </div>\n",
              "  "
            ]
          },
          "metadata": {},
          "execution_count": 4
        }
      ],
      "source": [
        "df_person_district"
      ],
      "id": "AHbhz4NNn7BN"
    },
    {
      "cell_type": "markdown",
      "metadata": {
        "id": "Dg0buTIyn7BO"
      },
      "source": [
        "df_districts_house_prices\n",
        "\n",
        "includes information about each district and the prices of the houses in the district\n",
        "\n",
        "- district: the name of the district\n",
        "- house_price: the price of the house\n",
        "- house_number: the house number in the district"
      ],
      "id": "Dg0buTIyn7BO"
    },
    {
      "cell_type": "code",
      "execution_count": 5,
      "metadata": {
        "colab": {
          "base_uri": "https://localhost:8080/",
          "height": 423
        },
        "id": "nCnAqBicn7BO",
        "outputId": "2e92fc5a-cf90-4db0-ed21-9c783953e089"
      },
      "outputs": [
        {
          "output_type": "execute_result",
          "data": {
            "text/plain": [
              "        district  house_price  house_number\n",
              "0      Celowsgan     160652.0             1\n",
              "1      Celowsgan     159219.0             2\n",
              "2      Celowsgan     161543.0             3\n",
              "3      Celowsgan     158944.0             4\n",
              "4      Celowsgan     164121.0             5\n",
              "...          ...          ...           ...\n",
              "1358  El Willong     932441.0            30\n",
              "1359  El Willong     890190.0            31\n",
              "1360  El Willong     892096.0            32\n",
              "1361  El Willong     935117.0            33\n",
              "1362  El Willong     953480.0            34\n",
              "\n",
              "[1363 rows x 3 columns]"
            ],
            "text/html": [
              "\n",
              "  <div id=\"df-9dba68c8-04f0-4f5a-b909-98f0280ad494\">\n",
              "    <div class=\"colab-df-container\">\n",
              "      <div>\n",
              "<style scoped>\n",
              "    .dataframe tbody tr th:only-of-type {\n",
              "        vertical-align: middle;\n",
              "    }\n",
              "\n",
              "    .dataframe tbody tr th {\n",
              "        vertical-align: top;\n",
              "    }\n",
              "\n",
              "    .dataframe thead th {\n",
              "        text-align: right;\n",
              "    }\n",
              "</style>\n",
              "<table border=\"1\" class=\"dataframe\">\n",
              "  <thead>\n",
              "    <tr style=\"text-align: right;\">\n",
              "      <th></th>\n",
              "      <th>district</th>\n",
              "      <th>house_price</th>\n",
              "      <th>house_number</th>\n",
              "    </tr>\n",
              "  </thead>\n",
              "  <tbody>\n",
              "    <tr>\n",
              "      <th>0</th>\n",
              "      <td>Celowsgan</td>\n",
              "      <td>160652.0</td>\n",
              "      <td>1</td>\n",
              "    </tr>\n",
              "    <tr>\n",
              "      <th>1</th>\n",
              "      <td>Celowsgan</td>\n",
              "      <td>159219.0</td>\n",
              "      <td>2</td>\n",
              "    </tr>\n",
              "    <tr>\n",
              "      <th>2</th>\n",
              "      <td>Celowsgan</td>\n",
              "      <td>161543.0</td>\n",
              "      <td>3</td>\n",
              "    </tr>\n",
              "    <tr>\n",
              "      <th>3</th>\n",
              "      <td>Celowsgan</td>\n",
              "      <td>158944.0</td>\n",
              "      <td>4</td>\n",
              "    </tr>\n",
              "    <tr>\n",
              "      <th>4</th>\n",
              "      <td>Celowsgan</td>\n",
              "      <td>164121.0</td>\n",
              "      <td>5</td>\n",
              "    </tr>\n",
              "    <tr>\n",
              "      <th>...</th>\n",
              "      <td>...</td>\n",
              "      <td>...</td>\n",
              "      <td>...</td>\n",
              "    </tr>\n",
              "    <tr>\n",
              "      <th>1358</th>\n",
              "      <td>El Willong</td>\n",
              "      <td>932441.0</td>\n",
              "      <td>30</td>\n",
              "    </tr>\n",
              "    <tr>\n",
              "      <th>1359</th>\n",
              "      <td>El Willong</td>\n",
              "      <td>890190.0</td>\n",
              "      <td>31</td>\n",
              "    </tr>\n",
              "    <tr>\n",
              "      <th>1360</th>\n",
              "      <td>El Willong</td>\n",
              "      <td>892096.0</td>\n",
              "      <td>32</td>\n",
              "    </tr>\n",
              "    <tr>\n",
              "      <th>1361</th>\n",
              "      <td>El Willong</td>\n",
              "      <td>935117.0</td>\n",
              "      <td>33</td>\n",
              "    </tr>\n",
              "    <tr>\n",
              "      <th>1362</th>\n",
              "      <td>El Willong</td>\n",
              "      <td>953480.0</td>\n",
              "      <td>34</td>\n",
              "    </tr>\n",
              "  </tbody>\n",
              "</table>\n",
              "<p>1363 rows × 3 columns</p>\n",
              "</div>\n",
              "      <button class=\"colab-df-convert\" onclick=\"convertToInteractive('df-9dba68c8-04f0-4f5a-b909-98f0280ad494')\"\n",
              "              title=\"Convert this dataframe to an interactive table.\"\n",
              "              style=\"display:none;\">\n",
              "        \n",
              "  <svg xmlns=\"http://www.w3.org/2000/svg\" height=\"24px\"viewBox=\"0 0 24 24\"\n",
              "       width=\"24px\">\n",
              "    <path d=\"M0 0h24v24H0V0z\" fill=\"none\"/>\n",
              "    <path d=\"M18.56 5.44l.94 2.06.94-2.06 2.06-.94-2.06-.94-.94-2.06-.94 2.06-2.06.94zm-11 1L8.5 8.5l.94-2.06 2.06-.94-2.06-.94L8.5 2.5l-.94 2.06-2.06.94zm10 10l.94 2.06.94-2.06 2.06-.94-2.06-.94-.94-2.06-.94 2.06-2.06.94z\"/><path d=\"M17.41 7.96l-1.37-1.37c-.4-.4-.92-.59-1.43-.59-.52 0-1.04.2-1.43.59L10.3 9.45l-7.72 7.72c-.78.78-.78 2.05 0 2.83L4 21.41c.39.39.9.59 1.41.59.51 0 1.02-.2 1.41-.59l7.78-7.78 2.81-2.81c.8-.78.8-2.07 0-2.86zM5.41 20L4 18.59l7.72-7.72 1.47 1.35L5.41 20z\"/>\n",
              "  </svg>\n",
              "      </button>\n",
              "      \n",
              "  <style>\n",
              "    .colab-df-container {\n",
              "      display:flex;\n",
              "      flex-wrap:wrap;\n",
              "      gap: 12px;\n",
              "    }\n",
              "\n",
              "    .colab-df-convert {\n",
              "      background-color: #E8F0FE;\n",
              "      border: none;\n",
              "      border-radius: 50%;\n",
              "      cursor: pointer;\n",
              "      display: none;\n",
              "      fill: #1967D2;\n",
              "      height: 32px;\n",
              "      padding: 0 0 0 0;\n",
              "      width: 32px;\n",
              "    }\n",
              "\n",
              "    .colab-df-convert:hover {\n",
              "      background-color: #E2EBFA;\n",
              "      box-shadow: 0px 1px 2px rgba(60, 64, 67, 0.3), 0px 1px 3px 1px rgba(60, 64, 67, 0.15);\n",
              "      fill: #174EA6;\n",
              "    }\n",
              "\n",
              "    [theme=dark] .colab-df-convert {\n",
              "      background-color: #3B4455;\n",
              "      fill: #D2E3FC;\n",
              "    }\n",
              "\n",
              "    [theme=dark] .colab-df-convert:hover {\n",
              "      background-color: #434B5C;\n",
              "      box-shadow: 0px 1px 3px 1px rgba(0, 0, 0, 0.15);\n",
              "      filter: drop-shadow(0px 1px 2px rgba(0, 0, 0, 0.3));\n",
              "      fill: #FFFFFF;\n",
              "    }\n",
              "  </style>\n",
              "\n",
              "      <script>\n",
              "        const buttonEl =\n",
              "          document.querySelector('#df-9dba68c8-04f0-4f5a-b909-98f0280ad494 button.colab-df-convert');\n",
              "        buttonEl.style.display =\n",
              "          google.colab.kernel.accessAllowed ? 'block' : 'none';\n",
              "\n",
              "        async function convertToInteractive(key) {\n",
              "          const element = document.querySelector('#df-9dba68c8-04f0-4f5a-b909-98f0280ad494');\n",
              "          const dataTable =\n",
              "            await google.colab.kernel.invokeFunction('convertToInteractive',\n",
              "                                                     [key], {});\n",
              "          if (!dataTable) return;\n",
              "\n",
              "          const docLinkHtml = 'Like what you see? Visit the ' +\n",
              "            '<a target=\"_blank\" href=https://colab.research.google.com/notebooks/data_table.ipynb>data table notebook</a>'\n",
              "            + ' to learn more about interactive tables.';\n",
              "          element.innerHTML = '';\n",
              "          dataTable['output_type'] = 'display_data';\n",
              "          await google.colab.output.renderOutput(dataTable, element);\n",
              "          const docLink = document.createElement('div');\n",
              "          docLink.innerHTML = docLinkHtml;\n",
              "          element.appendChild(docLink);\n",
              "        }\n",
              "      </script>\n",
              "    </div>\n",
              "  </div>\n",
              "  "
            ]
          },
          "metadata": {},
          "execution_count": 5
        }
      ],
      "source": [
        "df_districts_house_prices"
      ],
      "id": "nCnAqBicn7BO"
    },
    {
      "cell_type": "markdown",
      "metadata": {
        "id": "anJqS3BNn7BO"
      },
      "source": [
        "df_person_data\n",
        "\n",
        "includes personal information about each of the customers and relevant information to their video gaming habits\n",
        "\n",
        "- person_id: identifier for a person\n",
        "- age: the age of the person\n",
        "- n_kids: the number of kids this person has\n",
        "- n_vg: the number of video games the person owns\n",
        "- n_con: the number of video game consols the person owns\n",
        "- n_presub: the number of premium subscription the person owns\n",
        "- n_hours_playing: the total number of hours this person play per month "
      ],
      "id": "anJqS3BNn7BO"
    },
    {
      "cell_type": "code",
      "execution_count": 6,
      "metadata": {
        "colab": {
          "base_uri": "https://localhost:8080/",
          "height": 641
        },
        "id": "t3sSnkd1n7BP",
        "outputId": "a2830789-9552-4c75-9bb4-7d86456e8bac"
      },
      "outputs": [
        {
          "output_type": "execute_result",
          "data": {
            "text/plain": [
              "                                  person_id   age  n_kids  n_vg  n_con  \\\n",
              "0      50c4c7e2-89a6-440b-a8e3-c44aa2c6150e  14.0       0     0      0   \n",
              "1      16f3bafb-9556-434e-adab-cb02f41fe32a  18.0       0     2      0   \n",
              "2      0fa17eee-7214-4609-97fe-dd3093601800  28.0       0     3      0   \n",
              "3      8db4ca66-dfb2-43f2-9c22-aa861dd0d218  20.0       1    72      0   \n",
              "4      51fed64a-375e-417f-94e4-4d27c368ea44  32.0       1    58      1   \n",
              "...                                     ...   ...     ...   ...    ...   \n",
              "69995  8cbea1e2-3257-4db5-ae59-84faa48cfde2  32.0       4    62      1   \n",
              "69996  e099ace5-a760-4362-a9ea-ae8cee590b86  36.0       0    53      1   \n",
              "69997  e9b0604e-ec84-4704-8e75-eabfd59ac4fb  19.0       0     1      1   \n",
              "69998  e20f8ec5-0ddf-4674-ac1f-d6280b6640ab  31.0       2    49      3   \n",
              "69999  4d86ea85-2eaf-457a-bdba-73ff21830588  20.0       0     3      0   \n",
              "\n",
              "       n_presub  n_hours_playing  \n",
              "0             0        18.422745  \n",
              "1             0        20.693273  \n",
              "2             0        22.412490  \n",
              "3             0       299.187025  \n",
              "4             3        20.367141  \n",
              "...         ...              ...  \n",
              "69995         2        21.378288  \n",
              "69996         1         3.707476  \n",
              "69997         0        23.809075  \n",
              "69998         2        15.708397  \n",
              "69999         2        30.796314  \n",
              "\n",
              "[70000 rows x 7 columns]"
            ],
            "text/html": [
              "\n",
              "  <div id=\"df-8ab7983e-569d-4ba7-a373-e8032dcc1d6d\">\n",
              "    <div class=\"colab-df-container\">\n",
              "      <div>\n",
              "<style scoped>\n",
              "    .dataframe tbody tr th:only-of-type {\n",
              "        vertical-align: middle;\n",
              "    }\n",
              "\n",
              "    .dataframe tbody tr th {\n",
              "        vertical-align: top;\n",
              "    }\n",
              "\n",
              "    .dataframe thead th {\n",
              "        text-align: right;\n",
              "    }\n",
              "</style>\n",
              "<table border=\"1\" class=\"dataframe\">\n",
              "  <thead>\n",
              "    <tr style=\"text-align: right;\">\n",
              "      <th></th>\n",
              "      <th>person_id</th>\n",
              "      <th>age</th>\n",
              "      <th>n_kids</th>\n",
              "      <th>n_vg</th>\n",
              "      <th>n_con</th>\n",
              "      <th>n_presub</th>\n",
              "      <th>n_hours_playing</th>\n",
              "    </tr>\n",
              "  </thead>\n",
              "  <tbody>\n",
              "    <tr>\n",
              "      <th>0</th>\n",
              "      <td>50c4c7e2-89a6-440b-a8e3-c44aa2c6150e</td>\n",
              "      <td>14.0</td>\n",
              "      <td>0</td>\n",
              "      <td>0</td>\n",
              "      <td>0</td>\n",
              "      <td>0</td>\n",
              "      <td>18.422745</td>\n",
              "    </tr>\n",
              "    <tr>\n",
              "      <th>1</th>\n",
              "      <td>16f3bafb-9556-434e-adab-cb02f41fe32a</td>\n",
              "      <td>18.0</td>\n",
              "      <td>0</td>\n",
              "      <td>2</td>\n",
              "      <td>0</td>\n",
              "      <td>0</td>\n",
              "      <td>20.693273</td>\n",
              "    </tr>\n",
              "    <tr>\n",
              "      <th>2</th>\n",
              "      <td>0fa17eee-7214-4609-97fe-dd3093601800</td>\n",
              "      <td>28.0</td>\n",
              "      <td>0</td>\n",
              "      <td>3</td>\n",
              "      <td>0</td>\n",
              "      <td>0</td>\n",
              "      <td>22.412490</td>\n",
              "    </tr>\n",
              "    <tr>\n",
              "      <th>3</th>\n",
              "      <td>8db4ca66-dfb2-43f2-9c22-aa861dd0d218</td>\n",
              "      <td>20.0</td>\n",
              "      <td>1</td>\n",
              "      <td>72</td>\n",
              "      <td>0</td>\n",
              "      <td>0</td>\n",
              "      <td>299.187025</td>\n",
              "    </tr>\n",
              "    <tr>\n",
              "      <th>4</th>\n",
              "      <td>51fed64a-375e-417f-94e4-4d27c368ea44</td>\n",
              "      <td>32.0</td>\n",
              "      <td>1</td>\n",
              "      <td>58</td>\n",
              "      <td>1</td>\n",
              "      <td>3</td>\n",
              "      <td>20.367141</td>\n",
              "    </tr>\n",
              "    <tr>\n",
              "      <th>...</th>\n",
              "      <td>...</td>\n",
              "      <td>...</td>\n",
              "      <td>...</td>\n",
              "      <td>...</td>\n",
              "      <td>...</td>\n",
              "      <td>...</td>\n",
              "      <td>...</td>\n",
              "    </tr>\n",
              "    <tr>\n",
              "      <th>69995</th>\n",
              "      <td>8cbea1e2-3257-4db5-ae59-84faa48cfde2</td>\n",
              "      <td>32.0</td>\n",
              "      <td>4</td>\n",
              "      <td>62</td>\n",
              "      <td>1</td>\n",
              "      <td>2</td>\n",
              "      <td>21.378288</td>\n",
              "    </tr>\n",
              "    <tr>\n",
              "      <th>69996</th>\n",
              "      <td>e099ace5-a760-4362-a9ea-ae8cee590b86</td>\n",
              "      <td>36.0</td>\n",
              "      <td>0</td>\n",
              "      <td>53</td>\n",
              "      <td>1</td>\n",
              "      <td>1</td>\n",
              "      <td>3.707476</td>\n",
              "    </tr>\n",
              "    <tr>\n",
              "      <th>69997</th>\n",
              "      <td>e9b0604e-ec84-4704-8e75-eabfd59ac4fb</td>\n",
              "      <td>19.0</td>\n",
              "      <td>0</td>\n",
              "      <td>1</td>\n",
              "      <td>1</td>\n",
              "      <td>0</td>\n",
              "      <td>23.809075</td>\n",
              "    </tr>\n",
              "    <tr>\n",
              "      <th>69998</th>\n",
              "      <td>e20f8ec5-0ddf-4674-ac1f-d6280b6640ab</td>\n",
              "      <td>31.0</td>\n",
              "      <td>2</td>\n",
              "      <td>49</td>\n",
              "      <td>3</td>\n",
              "      <td>2</td>\n",
              "      <td>15.708397</td>\n",
              "    </tr>\n",
              "    <tr>\n",
              "      <th>69999</th>\n",
              "      <td>4d86ea85-2eaf-457a-bdba-73ff21830588</td>\n",
              "      <td>20.0</td>\n",
              "      <td>0</td>\n",
              "      <td>3</td>\n",
              "      <td>0</td>\n",
              "      <td>2</td>\n",
              "      <td>30.796314</td>\n",
              "    </tr>\n",
              "  </tbody>\n",
              "</table>\n",
              "<p>70000 rows × 7 columns</p>\n",
              "</div>\n",
              "      <button class=\"colab-df-convert\" onclick=\"convertToInteractive('df-8ab7983e-569d-4ba7-a373-e8032dcc1d6d')\"\n",
              "              title=\"Convert this dataframe to an interactive table.\"\n",
              "              style=\"display:none;\">\n",
              "        \n",
              "  <svg xmlns=\"http://www.w3.org/2000/svg\" height=\"24px\"viewBox=\"0 0 24 24\"\n",
              "       width=\"24px\">\n",
              "    <path d=\"M0 0h24v24H0V0z\" fill=\"none\"/>\n",
              "    <path d=\"M18.56 5.44l.94 2.06.94-2.06 2.06-.94-2.06-.94-.94-2.06-.94 2.06-2.06.94zm-11 1L8.5 8.5l.94-2.06 2.06-.94-2.06-.94L8.5 2.5l-.94 2.06-2.06.94zm10 10l.94 2.06.94-2.06 2.06-.94-2.06-.94-.94-2.06-.94 2.06-2.06.94z\"/><path d=\"M17.41 7.96l-1.37-1.37c-.4-.4-.92-.59-1.43-.59-.52 0-1.04.2-1.43.59L10.3 9.45l-7.72 7.72c-.78.78-.78 2.05 0 2.83L4 21.41c.39.39.9.59 1.41.59.51 0 1.02-.2 1.41-.59l7.78-7.78 2.81-2.81c.8-.78.8-2.07 0-2.86zM5.41 20L4 18.59l7.72-7.72 1.47 1.35L5.41 20z\"/>\n",
              "  </svg>\n",
              "      </button>\n",
              "      \n",
              "  <style>\n",
              "    .colab-df-container {\n",
              "      display:flex;\n",
              "      flex-wrap:wrap;\n",
              "      gap: 12px;\n",
              "    }\n",
              "\n",
              "    .colab-df-convert {\n",
              "      background-color: #E8F0FE;\n",
              "      border: none;\n",
              "      border-radius: 50%;\n",
              "      cursor: pointer;\n",
              "      display: none;\n",
              "      fill: #1967D2;\n",
              "      height: 32px;\n",
              "      padding: 0 0 0 0;\n",
              "      width: 32px;\n",
              "    }\n",
              "\n",
              "    .colab-df-convert:hover {\n",
              "      background-color: #E2EBFA;\n",
              "      box-shadow: 0px 1px 2px rgba(60, 64, 67, 0.3), 0px 1px 3px 1px rgba(60, 64, 67, 0.15);\n",
              "      fill: #174EA6;\n",
              "    }\n",
              "\n",
              "    [theme=dark] .colab-df-convert {\n",
              "      background-color: #3B4455;\n",
              "      fill: #D2E3FC;\n",
              "    }\n",
              "\n",
              "    [theme=dark] .colab-df-convert:hover {\n",
              "      background-color: #434B5C;\n",
              "      box-shadow: 0px 1px 3px 1px rgba(0, 0, 0, 0.15);\n",
              "      filter: drop-shadow(0px 1px 2px rgba(0, 0, 0, 0.3));\n",
              "      fill: #FFFFFF;\n",
              "    }\n",
              "  </style>\n",
              "\n",
              "      <script>\n",
              "        const buttonEl =\n",
              "          document.querySelector('#df-8ab7983e-569d-4ba7-a373-e8032dcc1d6d button.colab-df-convert');\n",
              "        buttonEl.style.display =\n",
              "          google.colab.kernel.accessAllowed ? 'block' : 'none';\n",
              "\n",
              "        async function convertToInteractive(key) {\n",
              "          const element = document.querySelector('#df-8ab7983e-569d-4ba7-a373-e8032dcc1d6d');\n",
              "          const dataTable =\n",
              "            await google.colab.kernel.invokeFunction('convertToInteractive',\n",
              "                                                     [key], {});\n",
              "          if (!dataTable) return;\n",
              "\n",
              "          const docLinkHtml = 'Like what you see? Visit the ' +\n",
              "            '<a target=\"_blank\" href=https://colab.research.google.com/notebooks/data_table.ipynb>data table notebook</a>'\n",
              "            + ' to learn more about interactive tables.';\n",
              "          element.innerHTML = '';\n",
              "          dataTable['output_type'] = 'display_data';\n",
              "          await google.colab.output.renderOutput(dataTable, element);\n",
              "          const docLink = document.createElement('div');\n",
              "          docLink.innerHTML = docLinkHtml;\n",
              "          element.appendChild(docLink);\n",
              "        }\n",
              "      </script>\n",
              "    </div>\n",
              "  </div>\n",
              "  "
            ]
          },
          "metadata": {},
          "execution_count": 6
        }
      ],
      "source": [
        "df_person_data"
      ],
      "id": "t3sSnkd1n7BP"
    },
    {
      "cell_type": "markdown",
      "metadata": {
        "id": "FcnVxt9Hn7BP"
      },
      "source": [
        "## Quick EDA\n",
        "\n",
        "The goals of these questions is to evaluate your plotting, data mangling, and plot interpretation skills.   \n",
        "Use whatever libraries you are comfortable with.   \n",
        "Code clarity and cleanliness are also highly valuable.   "
      ],
      "id": "FcnVxt9Hn7BP"
    },
    {
      "cell_type": "markdown",
      "metadata": {
        "id": "QC0FawS_n7BQ"
      },
      "source": [
        "### 1. Plot each district's house prices distribution with marking the mean by a vertical line\n"
      ],
      "id": "QC0FawS_n7BQ"
    },
    {
      "cell_type": "code",
      "execution_count": 7,
      "metadata": {
        "id": "ythWQD2Bn7BQ"
      },
      "outputs": [],
      "source": [
        "import matplotlib.pyplot as plt"
      ],
      "id": "ythWQD2Bn7BQ"
    },
    {
      "cell_type": "code",
      "source": [
        "a = df_districts_house_prices['house_price']\n",
        "plt.plot(d)\n",
        "mean_value = a.mean()\n",
        "plt.axvline(mean_value, color='g', linestyle='--', label='Mean')\n",
        "plt.title('District House Prices Distribution with Mean')\n",
        "plt.xlabel('Index')\n",
        "plt.ylabel('Value')\n",
        "plt.legend()\n",
        "plt.show()"
      ],
      "metadata": {
        "colab": {
          "base_uri": "https://localhost:8080/",
          "height": 472
        },
        "id": "EXlIpCY5dowY",
        "outputId": "70c2e1b7-441e-4858-9f9c-7b94be508a44"
      },
      "id": "EXlIpCY5dowY",
      "execution_count": 12,
      "outputs": [
        {
          "output_type": "display_data",
          "data": {
            "text/plain": [
              "<Figure size 640x480 with 1 Axes>"
            ],
            "image/png": "[encoded data removed]"
          },
          "metadata": {}
        }
      ]
    },
    {
      "cell_type": "markdown",
      "metadata": {
        "id": "6G5eUrd3n7BQ"
      },
      "source": [
        "### 2. Combine all of the three data sources into one table to use in further analysis. "
      ],
      "id": "6G5eUrd3n7BQ"
    },
    {
      "cell_type": "code",
      "execution_count": 13,
      "metadata": {
        "colab": {
          "base_uri": "https://localhost:8080/"
        },
        "id": "ajygm2yTn7BR",
        "outputId": "ff6af4b0-074c-4172-e2a8-7b2999c2e13e"
      },
      "outputs": [
        {
          "output_type": "stream",
          "name": "stdout",
          "text": [
            "                              person_id     district  house_price  \\\n",
            "0  50c4c7e2-89a6-440b-a8e3-c44aa2c6150e  Metdunstone     323177.0   \n",
            "1  50c4c7e2-89a6-440b-a8e3-c44aa2c6150e  Metdunstone          NaN   \n",
            "2  50c4c7e2-89a6-440b-a8e3-c44aa2c6150e  Metdunstone     333360.0   \n",
            "3  50c4c7e2-89a6-440b-a8e3-c44aa2c6150e  Metdunstone     319360.0   \n",
            "4  50c4c7e2-89a6-440b-a8e3-c44aa2c6150e  Metdunstone     333934.0   \n",
            "\n",
            "   house_number   age  n_kids  n_vg  n_con  n_presub  n_hours_playing  \n",
            "0             1  14.0       0     0      0         0        18.422745  \n",
            "1             2  14.0       0     0      0         0        18.422745  \n",
            "2             3  14.0       0     0      0         0        18.422745  \n",
            "3             4  14.0       0     0      0         0        18.422745  \n",
            "4             5  14.0       0     0      0         0        18.422745  \n"
          ]
        }
      ],
      "source": [
        "merged_df = pd.merge(df_person_district, df_districts_house_prices, on='district')\n",
        "merged_df = pd.merge(merged_df, df_person_data, on='person_id')\n",
        "print(merged_df.head())\n",
        "merged_df.to_csv('combined_file.csv', index=True)"
      ],
      "id": "ajygm2yTn7BR"
    },
    {
      "cell_type": "markdown",
      "metadata": {
        "id": "eiIKXc7rn7BR"
      },
      "source": [
        "### 3. Plot age vs avg house price. What does this plot tell you? (younger people live in more expensive districts)"
      ],
      "id": "eiIKXc7rn7BR"
    },
    {
      "cell_type": "code",
      "execution_count": 15,
      "metadata": {
        "colab": {
          "base_uri": "https://localhost:8080/",
          "height": 472
        },
        "id": "LMv78CFmn7BR",
        "outputId": "47f43fd5-d81c-4d38-c8d9-ebb7545ee9e0"
      },
      "outputs": [
        {
          "output_type": "display_data",
          "data": {
            "text/plain": [
              "<Figure size 640x480 with 1 Axes>"
            ],
            "image/png": "[encoded data removed]"
          },
          "metadata": {}
        }
      ],
      "source": [
        "data = pd.read_csv('combined_file.csv')\n",
        "c1 = data['age']\n",
        "c2 = data['house_price']\n",
        "#Taking avg of house price\n",
        "mean_value = c2.mean()\n",
        "avg_data = pd.DataFrame({'houseprice_avg': [mean_value] * len(data), 'age': data['age']})\n",
        "#creating plot\n",
        "plt.plot(avg_data['age'],avg_data['houseprice_avg'], 'x')\n",
        "# Customizing the plot\n",
        "plt.xlabel('Age')\n",
        "plt.ylabel('Avg house Price')\n",
        "plt.title('Age vs. Avg house Price')\n",
        "\n",
        "# Showing the plot\n",
        "plt.show()"
      ],
      "id": "LMv78CFmn7BR"
    },
    {
      "cell_type": "markdown",
      "metadata": {
        "id": "wRFo4cNIn7BS"
      },
      "source": [
        "## Probability and Statistics:\n",
        "\n",
        "The goal of these questions is to test your ability to answer probability and stat questions with code.   \n",
        "Use whatever libraries you are comfortable with.   \n",
        "Code clarity and cleanliness are also highly valuable.   \n"
      ],
      "id": "wRFo4cNIn7BS"
    },
    {
      "cell_type": "markdown",
      "metadata": {
        "id": "GTC4-wv0n7BS"
      },
      "source": [
        "### 1. What's the probability of a customer having 2 kids"
      ],
      "id": "GTC4-wv0n7BS"
    },
    {
      "cell_type": "code",
      "execution_count": 25,
      "metadata": {
        "colab": {
          "base_uri": "https://localhost:8080/"
        },
        "id": "Dr2XSVrwn7BS",
        "outputId": "783ca472-6a4d-4a96-905c-a08743faa54f"
      },
      "outputs": [
        {
          "output_type": "stream",
          "name": "stdout",
          "text": [
            "The probability of a customer having 2 kids is: 0.10017142857142858\n"
          ]
        }
      ],
      "source": [
        "count = df_person_data['n_kids'].value_counts().get(2, 0)\n",
        "total = len(df_person_data)\n",
        "probability = count / total\n",
        "print(\"The probability of a customer having 2 kids is:\", probability)"
      ],
      "id": "Dr2XSVrwn7BS"
    },
    {
      "cell_type": "markdown",
      "metadata": {
        "id": "KjJjG3Acn7BS"
      },
      "source": [
        "### 2. What's the probability of a customer owning more than 10 video games given that they have less than 2 kids"
      ],
      "id": "KjJjG3Acn7BS"
    },
    {
      "cell_type": "code",
      "execution_count": 27,
      "metadata": {
        "colab": {
          "base_uri": "https://localhost:8080/",
          "height": 235
        },
        "id": "9I_0TphJn7BT",
        "outputId": "cc3a6a88-1311-413e-df2c-bdb092aebc77"
      },
      "outputs": [
        {
          "output_type": "error",
          "ename": "NameError",
          "evalue": "ignored",
          "traceback": [
            "\u001b[0;31m---------------------------------------------------------------------------\u001b[0m",
            "\u001b[0;31mNameError\u001b[0m                                 Traceback (most recent call last)",
            "\u001b[0;32m<ipython-input-27-885a8fce254d>\u001b[0m in \u001b[0;36m<cell line: 3>\u001b[0;34m()\u001b[0m\n\u001b[1;32m      1\u001b[0m \u001b[0;32mimport\u001b[0m \u001b[0mpandas\u001b[0m \u001b[0;32mas\u001b[0m \u001b[0mpd\u001b[0m\u001b[0;34m\u001b[0m\u001b[0;34m\u001b[0m\u001b[0m\n\u001b[1;32m      2\u001b[0m \u001b[0;34m\u001b[0m\u001b[0m\n\u001b[0;32m----> 3\u001b[0;31m \u001b[0mfiltered_data\u001b[0m \u001b[0;34m=\u001b[0m \u001b[0mmerged_data\u001b[0m\u001b[0;34m[\u001b[0m\u001b[0mmerged_data\u001b[0m\u001b[0;34m[\u001b[0m\u001b[0;34m'n_kids'\u001b[0m\u001b[0;34m]\u001b[0m \u001b[0;34m<\u001b[0m \u001b[0;36m2\u001b[0m\u001b[0;34m]\u001b[0m\u001b[0;34m\u001b[0m\u001b[0;34m\u001b[0m\u001b[0m\n\u001b[0m\u001b[1;32m      4\u001b[0m \u001b[0mkids_2\u001b[0m \u001b[0;34m=\u001b[0m \u001b[0mlen\u001b[0m\u001b[0;34m(\u001b[0m\u001b[0mfiltered_data\u001b[0m\u001b[0;34m)\u001b[0m\u001b[0;34m\u001b[0m\u001b[0;34m\u001b[0m\u001b[0m\n\u001b[1;32m      5\u001b[0m \u001b[0;34m\u001b[0m\u001b[0m\n",
            "\u001b[0;31mNameError\u001b[0m: name 'merged_data' is not defined"
          ]
        }
      ],
      "source": [
        "import pandas as pd\n",
        "\n",
        "filtered_data = merged_data[merged_data['n_kids'] < 2]\n",
        "kids_2 = len(filtered_data)\n",
        "\n",
        "game_10 = len(filtered_data[filtered_data['n_vg'] > 10])\n",
        "\n",
        "probability = game_10 / kids_2\n",
        "\n",
        "print(\"The probability of a customer owning more than 10 video games given less than 2 kids is:\", probability)"
      ],
      "id": "9I_0TphJn7BT"
    },
    {
      "cell_type": "code",
      "source": [
        "import pandas as pd\n",
        "\n",
        "filtered_data = df_person_data[df_person_data['n_kids'] < 2]\n",
        "kids_2 = len(filtered_data)\n",
        "\n",
        "game_10 = len(filtered_data[filtered_data['n_vg'] > 10])\n",
        "\n",
        "probability = game_10 / kids_2\n",
        "\n",
        "print(\"The probability of a customer owning more than 10 video games given less than 2 kids is:\", probability)"
      ],
      "metadata": {
        "colab": {
          "base_uri": "https://localhost:8080/"
        },
        "id": "MeU1tE5yrRz1",
        "outputId": "43caeb70-7417-475a-f54f-18e3a630ae9d"
      },
      "id": "MeU1tE5yrRz1",
      "execution_count": 28,
      "outputs": [
        {
          "output_type": "stream",
          "name": "stdout",
          "text": [
            "The probability of a customer owning more than 10 video games given less than 2 kids is: 0.4018363273453094\n"
          ]
        }
      ]
    },
    {
      "cell_type": "markdown",
      "metadata": {
        "id": "_yU5G5gVn7BT"
      },
      "source": [
        "### 3. Plot the distribution of the number of hours played by customers `n_hours_playing`. Briefly explain what you understand now about the customers' playing hours."
      ],
      "id": "_yU5G5gVn7BT"
    },
    {
      "cell_type": "code",
      "execution_count": 32,
      "metadata": {
        "colab": {
          "base_uri": "https://localhost:8080/",
          "height": 472
        },
        "id": "tVh6fT9Ln7BT",
        "outputId": "98d59e6a-0fe3-45e9-add0-0d8fd27a45bf"
      },
      "outputs": [
        {
          "output_type": "display_data",
          "data": {
            "text/plain": [
              "<Figure size 640x480 with 1 Axes>"
            ],
            "image/png": "[encoded data removed]"
          },
          "metadata": {}
        }
      ],
      "source": [
        "import seaborn as sns\n",
        "sns.histplot(data=df_person_data, x='n_hours_playing', kde=True)\n",
        "\n",
        "plt.xlabel('Number of Hours Played')\n",
        "plt.ylabel('Frequency')\n",
        "plt.title('Distribution of Playing Hours')\n",
        "plt.show()"
      ],
      "id": "tVh6fT9Ln7BT"
    },
    {
      "cell_type": "markdown",
      "metadata": {
        "id": "O77M3nEpn7BT"
      },
      "source": [
        "As you can see, most customers have a number of hours less than 50 so let's go ahead and remove any values less than 50.  \n",
        "The distribution of the remaining values look like a normal distribution.  \n",
        "###  4. Estimate the parameters (mean and std deviation) of this normal distribution computationally.  \\\n",
        "### (Bonus: plot the estimated normal distribution on top of the distribution of `n_hours_playing` after removing values < 50)"
      ],
      "id": "O77M3nEpn7BT"
    },
    {
      "cell_type": "code",
      "execution_count": 33,
      "metadata": {
        "colab": {
          "base_uri": "https://localhost:8080/"
        },
        "id": "ZkcgRB6Dn7BU",
        "outputId": "37a02d63-f57f-496a-b368-a10a1a37b053"
      },
      "outputs": [
        {
          "output_type": "stream",
          "name": "stdout",
          "text": [
            "Mean: 17.85123344538773\n",
            "Standard Deviation: 7.832839972147526\n"
          ]
        }
      ],
      "source": [
        "import numpy as np\n",
        "lower_50 = df_person_data[df_person_data['n_hours_playing']<50]\n",
        "mean = np.mean(lower_50['n_hours_playing'])\n",
        "std_dev = np.std(lower_50['n_hours_playing'])\n",
        "print(\"Mean:\", mean)\n",
        "print(\"Standard Deviation:\", std_dev)"
      ],
      "id": "ZkcgRB6Dn7BU"
    },
    {
      "cell_type": "markdown",
      "metadata": {
        "id": "BndRouzWn7BU"
      },
      "source": [
        "# Modeling\n",
        "The goal of this is to showcase your experimentation and model comparison process.  \n",
        "The performance of models is not as important as how you compare them and evaluate them against each other.  \n",
        "\n",
        "Use whatever libraries you are comfortable with.   \n",
        "Code clarity and cleanliness are also highly valuable.   \n",
        "# Apply Different regression model \n",
        "# Apply two classffier Model for the data of classfication ( as per your choice)"
      ],
      "id": "BndRouzWn7BU"
    },
    {
      "cell_type": "markdown",
      "metadata": {
        "id": "NkFj_QA1n7BU"
      },
      "source": [
        "### 1. Model the number of hours played for each customer. Show your experimentation with failed and successful models.\n",
        "### 2. Evaluate each experiment using appropriate metrics, cross validation, and plots. Show the predicted vs actual plot.\n",
        "### 3. Choose the best model for the data"
      ],
      "id": "NkFj_QA1n7BU"
    },
    {
      "cell_type": "code",
      "execution_count": 34,
      "metadata": {
        "id": "zm1_s0Qdn7BV"
      },
      "outputs": [],
      "source": [
        "X = df_person_data.drop(['person_id','n_hours_playing'], axis=1)  # Input features\n",
        "y = df_person_data['n_hours_playing']"
      ],
      "id": "zm1_s0Qdn7BV"
    },
    {
      "cell_type": "code",
      "execution_count": 35,
      "metadata": {
        "colab": {
          "base_uri": "https://localhost:8080/",
          "height": 206
        },
        "id": "arlAwLlen7BV",
        "outputId": "9a4b98f1-c766-4eb8-fcd1-42771465a4aa"
      },
      "outputs": [
        {
          "output_type": "execute_result",
          "data": {
            "text/plain": [
              "      0    1         2    3    4\n",
              "0  0.00  0.0  0.000000  0.0  0.0\n",
              "1  0.10  0.0  0.017544  0.0  0.0\n",
              "2  0.35  0.0  0.026316  0.0  0.0\n",
              "3  0.15  0.2  0.631579  0.0  0.0\n",
              "4  0.45  0.2  0.508772  0.2  0.5"
            ],
            "text/html": [
              "\n",
              "  <div id=\"df-58702a51-4d7f-4ff4-bb77-2ebe6ccf11e3\">\n",
              "    <div class=\"colab-df-container\">\n",
              "      <div>\n",
              "<style scoped>\n",
              "    .dataframe tbody tr th:only-of-type {\n",
              "        vertical-align: middle;\n",
              "    }\n",
              "\n",
              "    .dataframe tbody tr th {\n",
              "        vertical-align: top;\n",
              "    }\n",
              "\n",
              "    .dataframe thead th {\n",
              "        text-align: right;\n",
              "    }\n",
              "</style>\n",
              "<table border=\"1\" class=\"dataframe\">\n",
              "  <thead>\n",
              "    <tr style=\"text-align: right;\">\n",
              "      <th></th>\n",
              "      <th>0</th>\n",
              "      <th>1</th>\n",
              "      <th>2</th>\n",
              "      <th>3</th>\n",
              "      <th>4</th>\n",
              "    </tr>\n",
              "  </thead>\n",
              "  <tbody>\n",
              "    <tr>\n",
              "      <th>0</th>\n",
              "      <td>0.00</td>\n",
              "      <td>0.0</td>\n",
              "      <td>0.000000</td>\n",
              "      <td>0.0</td>\n",
              "      <td>0.0</td>\n",
              "    </tr>\n",
              "    <tr>\n",
              "      <th>1</th>\n",
              "      <td>0.10</td>\n",
              "      <td>0.0</td>\n",
              "      <td>0.017544</td>\n",
              "      <td>0.0</td>\n",
              "      <td>0.0</td>\n",
              "    </tr>\n",
              "    <tr>\n",
              "      <th>2</th>\n",
              "      <td>0.35</td>\n",
              "      <td>0.0</td>\n",
              "      <td>0.026316</td>\n",
              "      <td>0.0</td>\n",
              "      <td>0.0</td>\n",
              "    </tr>\n",
              "    <tr>\n",
              "      <th>3</th>\n",
              "      <td>0.15</td>\n",
              "      <td>0.2</td>\n",
              "      <td>0.631579</td>\n",
              "      <td>0.0</td>\n",
              "      <td>0.0</td>\n",
              "    </tr>\n",
              "    <tr>\n",
              "      <th>4</th>\n",
              "      <td>0.45</td>\n",
              "      <td>0.2</td>\n",
              "      <td>0.508772</td>\n",
              "      <td>0.2</td>\n",
              "      <td>0.5</td>\n",
              "    </tr>\n",
              "  </tbody>\n",
              "</table>\n",
              "</div>\n",
              "      <button class=\"colab-df-convert\" onclick=\"convertToInteractive('df-58702a51-4d7f-4ff4-bb77-2ebe6ccf11e3')\"\n",
              "              title=\"Convert this dataframe to an interactive table.\"\n",
              "              style=\"display:none;\">\n",
              "        \n",
              "  <svg xmlns=\"http://www.w3.org/2000/svg\" height=\"24px\"viewBox=\"0 0 24 24\"\n",
              "       width=\"24px\">\n",
              "    <path d=\"M0 0h24v24H0V0z\" fill=\"none\"/>\n",
              "    <path d=\"M18.56 5.44l.94 2.06.94-2.06 2.06-.94-2.06-.94-.94-2.06-.94 2.06-2.06.94zm-11 1L8.5 8.5l.94-2.06 2.06-.94-2.06-.94L8.5 2.5l-.94 2.06-2.06.94zm10 10l.94 2.06.94-2.06 2.06-.94-2.06-.94-.94-2.06-.94 2.06-2.06.94z\"/><path d=\"M17.41 7.96l-1.37-1.37c-.4-.4-.92-.59-1.43-.59-.52 0-1.04.2-1.43.59L10.3 9.45l-7.72 7.72c-.78.78-.78 2.05 0 2.83L4 21.41c.39.39.9.59 1.41.59.51 0 1.02-.2 1.41-.59l7.78-7.78 2.81-2.81c.8-.78.8-2.07 0-2.86zM5.41 20L4 18.59l7.72-7.72 1.47 1.35L5.41 20z\"/>\n",
              "  </svg>\n",
              "      </button>\n",
              "      \n",
              "  <style>\n",
              "    .colab-df-container {\n",
              "      display:flex;\n",
              "      flex-wrap:wrap;\n",
              "      gap: 12px;\n",
              "    }\n",
              "\n",
              "    .colab-df-convert {\n",
              "      background-color: #E8F0FE;\n",
              "      border: none;\n",
              "      border-radius: 50%;\n",
              "      cursor: pointer;\n",
              "      display: none;\n",
              "      fill: #1967D2;\n",
              "      height: 32px;\n",
              "      padding: 0 0 0 0;\n",
              "      width: 32px;\n",
              "    }\n",
              "\n",
              "    .colab-df-convert:hover {\n",
              "      background-color: #E2EBFA;\n",
              "      box-shadow: 0px 1px 2px rgba(60, 64, 67, 0.3), 0px 1px 3px 1px rgba(60, 64, 67, 0.15);\n",
              "      fill: #174EA6;\n",
              "    }\n",
              "\n",
              "    [theme=dark] .colab-df-convert {\n",
              "      background-color: #3B4455;\n",
              "      fill: #D2E3FC;\n",
              "    }\n",
              "\n",
              "    [theme=dark] .colab-df-convert:hover {\n",
              "      background-color: #434B5C;\n",
              "      box-shadow: 0px 1px 3px 1px rgba(0, 0, 0, 0.15);\n",
              "      filter: drop-shadow(0px 1px 2px rgba(0, 0, 0, 0.3));\n",
              "      fill: #FFFFFF;\n",
              "    }\n",
              "  </style>\n",
              "\n",
              "      <script>\n",
              "        const buttonEl =\n",
              "          document.querySelector('#df-58702a51-4d7f-4ff4-bb77-2ebe6ccf11e3 button.colab-df-convert');\n",
              "        buttonEl.style.display =\n",
              "          google.colab.kernel.accessAllowed ? 'block' : 'none';\n",
              "\n",
              "        async function convertToInteractive(key) {\n",
              "          const element = document.querySelector('#df-58702a51-4d7f-4ff4-bb77-2ebe6ccf11e3');\n",
              "          const dataTable =\n",
              "            await google.colab.kernel.invokeFunction('convertToInteractive',\n",
              "                                                     [key], {});\n",
              "          if (!dataTable) return;\n",
              "\n",
              "          const docLinkHtml = 'Like what you see? Visit the ' +\n",
              "            '<a target=\"_blank\" href=https://colab.research.google.com/notebooks/data_table.ipynb>data table notebook</a>'\n",
              "            + ' to learn more about interactive tables.';\n",
              "          element.innerHTML = '';\n",
              "          dataTable['output_type'] = 'display_data';\n",
              "          await google.colab.output.renderOutput(dataTable, element);\n",
              "          const docLink = document.createElement('div');\n",
              "          docLink.innerHTML = docLinkHtml;\n",
              "          element.appendChild(docLink);\n",
              "        }\n",
              "      </script>\n",
              "    </div>\n",
              "  </div>\n",
              "  "
            ]
          },
          "metadata": {},
          "execution_count": 35
        }
      ],
      "source": [
        "from sklearn import preprocessing\n",
        "x1 = X.values\n",
        "min_max_scaler = preprocessing.MinMaxScaler()\n",
        "x_scaled = min_max_scaler.fit_transform(x1)\n",
        "df_scaled = pd.DataFrame(x_scaled)\n",
        "df_scaled.head()"
      ],
      "id": "arlAwLlen7BV"
    },
    {
      "cell_type": "code",
      "execution_count": 40,
      "metadata": {
        "colab": {
          "base_uri": "https://localhost:8080/"
        },
        "id": "ArTfuFten7BV",
        "outputId": "4a8fe98a-b28b-49dd-c7b7-4f6bb3a05e04"
      },
      "outputs": [
        {
          "output_type": "stream",
          "name": "stdout",
          "text": [
            "Mean Squared Error: 3408.743597930921\n",
            "R2 Score: 0.8073126667092156\n"
          ]
        }
      ],
      "source": [
        "import pandas as pd\n",
        "from sklearn.linear_model import LinearRegression\n",
        "from sklearn.model_selection import train_test_split\n",
        "from sklearn.metrics import mean_squared_error\n",
        "import numpy as np\n",
        "from sklearn.metrics import accuracy_score, precision_score, recall_score, f1_score, confusion_matrix, matthews_corrcoef\n",
        "from sklearn.metrics import r2_score\n",
        "\n",
        "X_train, X_test, y_train, y_test = train_test_split(df_scaled.values, y, test_size=0.2, random_state=42)\n",
        "\n",
        "linear_reg = LinearRegression()\n",
        "\n",
        "linear_reg.fit(X_train, y_train)\n",
        "\n",
        "y_pred = linear_reg.predict(X_test)\n",
        "\n",
        "mse = mean_squared_error(y_test, y_pred)\n",
        "print('Mean Squared Error:', mse)\n",
        "\n",
        "r2 = r2_score(y_test, y_pred)\n",
        "print('R2 Score:', r2)"
      ],
      "id": "ArTfuFten7BV"
    },
    {
      "cell_type": "code",
      "execution_count": 39,
      "metadata": {
        "colab": {
          "base_uri": "https://localhost:8080/",
          "height": 206
        },
        "id": "uQ34dZSon7BV",
        "outputId": "d055fe17-47a7-46d5-ae33-ceca2b207ce9"
      },
      "outputs": [
        {
          "output_type": "execute_result",
          "data": {
            "text/plain": [
              "      0    1         2    3    4\n",
              "0  0.00  0.0  0.000000  0.0  0.0\n",
              "1  0.10  0.0  0.017544  0.0  0.0\n",
              "2  0.35  0.0  0.026316  0.0  0.0\n",
              "3  0.15  0.2  0.631579  0.0  0.0\n",
              "4  0.45  0.2  0.508772  0.2  0.5"
            ],
            "text/html": [
              "\n",
              "  <div id=\"df-56e8d63a-4930-4723-8a34-c25c19b6d91d\">\n",
              "    <div class=\"colab-df-container\">\n",
              "      <div>\n",
              "<style scoped>\n",
              "    .dataframe tbody tr th:only-of-type {\n",
              "        vertical-align: middle;\n",
              "    }\n",
              "\n",
              "    .dataframe tbody tr th {\n",
              "        vertical-align: top;\n",
              "    }\n",
              "\n",
              "    .dataframe thead th {\n",
              "        text-align: right;\n",
              "    }\n",
              "</style>\n",
              "<table border=\"1\" class=\"dataframe\">\n",
              "  <thead>\n",
              "    <tr style=\"text-align: right;\">\n",
              "      <th></th>\n",
              "      <th>0</th>\n",
              "      <th>1</th>\n",
              "      <th>2</th>\n",
              "      <th>3</th>\n",
              "      <th>4</th>\n",
              "    </tr>\n",
              "  </thead>\n",
              "  <tbody>\n",
              "    <tr>\n",
              "      <th>0</th>\n",
              "      <td>0.00</td>\n",
              "      <td>0.0</td>\n",
              "      <td>0.000000</td>\n",
              "      <td>0.0</td>\n",
              "      <td>0.0</td>\n",
              "    </tr>\n",
              "    <tr>\n",
              "      <th>1</th>\n",
              "      <td>0.10</td>\n",
              "      <td>0.0</td>\n",
              "      <td>0.017544</td>\n",
              "      <td>0.0</td>\n",
              "      <td>0.0</td>\n",
              "    </tr>\n",
              "    <tr>\n",
              "      <th>2</th>\n",
              "      <td>0.35</td>\n",
              "      <td>0.0</td>\n",
              "      <td>0.026316</td>\n",
              "      <td>0.0</td>\n",
              "      <td>0.0</td>\n",
              "    </tr>\n",
              "    <tr>\n",
              "      <th>3</th>\n",
              "      <td>0.15</td>\n",
              "      <td>0.2</td>\n",
              "      <td>0.631579</td>\n",
              "      <td>0.0</td>\n",
              "      <td>0.0</td>\n",
              "    </tr>\n",
              "    <tr>\n",
              "      <th>4</th>\n",
              "      <td>0.45</td>\n",
              "      <td>0.2</td>\n",
              "      <td>0.508772</td>\n",
              "      <td>0.2</td>\n",
              "      <td>0.5</td>\n",
              "    </tr>\n",
              "  </tbody>\n",
              "</table>\n",
              "</div>\n",
              "      <button class=\"colab-df-convert\" onclick=\"convertToInteractive('df-56e8d63a-4930-4723-8a34-c25c19b6d91d')\"\n",
              "              title=\"Convert this dataframe to an interactive table.\"\n",
              "              style=\"display:none;\">\n",
              "        \n",
              "  <svg xmlns=\"http://www.w3.org/2000/svg\" height=\"24px\"viewBox=\"0 0 24 24\"\n",
              "       width=\"24px\">\n",
              "    <path d=\"M0 0h24v24H0V0z\" fill=\"none\"/>\n",
              "    <path d=\"M18.56 5.44l.94 2.06.94-2.06 2.06-.94-2.06-.94-.94-2.06-.94 2.06-2.06.94zm-11 1L8.5 8.5l.94-2.06 2.06-.94-2.06-.94L8.5 2.5l-.94 2.06-2.06.94zm10 10l.94 2.06.94-2.06 2.06-.94-2.06-.94-.94-2.06-.94 2.06-2.06.94z\"/><path d=\"M17.41 7.96l-1.37-1.37c-.4-.4-.92-.59-1.43-.59-.52 0-1.04.2-1.43.59L10.3 9.45l-7.72 7.72c-.78.78-.78 2.05 0 2.83L4 21.41c.39.39.9.59 1.41.59.51 0 1.02-.2 1.41-.59l7.78-7.78 2.81-2.81c.8-.78.8-2.07 0-2.86zM5.41 20L4 18.59l7.72-7.72 1.47 1.35L5.41 20z\"/>\n",
              "  </svg>\n",
              "      </button>\n",
              "      \n",
              "  <style>\n",
              "    .colab-df-container {\n",
              "      display:flex;\n",
              "      flex-wrap:wrap;\n",
              "      gap: 12px;\n",
              "    }\n",
              "\n",
              "    .colab-df-convert {\n",
              "      background-color: #E8F0FE;\n",
              "      border: none;\n",
              "      border-radius: 50%;\n",
              "      cursor: pointer;\n",
              "      display: none;\n",
              "      fill: #1967D2;\n",
              "      height: 32px;\n",
              "      padding: 0 0 0 0;\n",
              "      width: 32px;\n",
              "    }\n",
              "\n",
              "    .colab-df-convert:hover {\n",
              "      background-color: #E2EBFA;\n",
              "      box-shadow: 0px 1px 2px rgba(60, 64, 67, 0.3), 0px 1px 3px 1px rgba(60, 64, 67, 0.15);\n",
              "      fill: #174EA6;\n",
              "    }\n",
              "\n",
              "    [theme=dark] .colab-df-convert {\n",
              "      background-color: #3B4455;\n",
              "      fill: #D2E3FC;\n",
              "    }\n",
              "\n",
              "    [theme=dark] .colab-df-convert:hover {\n",
              "      background-color: #434B5C;\n",
              "      box-shadow: 0px 1px 3px 1px rgba(0, 0, 0, 0.15);\n",
              "      filter: drop-shadow(0px 1px 2px rgba(0, 0, 0, 0.3));\n",
              "      fill: #FFFFFF;\n",
              "    }\n",
              "  </style>\n",
              "\n",
              "      <script>\n",
              "        const buttonEl =\n",
              "          document.querySelector('#df-56e8d63a-4930-4723-8a34-c25c19b6d91d button.colab-df-convert');\n",
              "        buttonEl.style.display =\n",
              "          google.colab.kernel.accessAllowed ? 'block' : 'none';\n",
              "\n",
              "        async function convertToInteractive(key) {\n",
              "          const element = document.querySelector('#df-56e8d63a-4930-4723-8a34-c25c19b6d91d');\n",
              "          const dataTable =\n",
              "            await google.colab.kernel.invokeFunction('convertToInteractive',\n",
              "                                                     [key], {});\n",
              "          if (!dataTable) return;\n",
              "\n",
              "          const docLinkHtml = 'Like what you see? Visit the ' +\n",
              "            '<a target=\"_blank\" href=https://colab.research.google.com/notebooks/data_table.ipynb>data table notebook</a>'\n",
              "            + ' to learn more about interactive tables.';\n",
              "          element.innerHTML = '';\n",
              "          dataTable['output_type'] = 'display_data';\n",
              "          await google.colab.output.renderOutput(dataTable, element);\n",
              "          const docLink = document.createElement('div');\n",
              "          docLink.innerHTML = docLinkHtml;\n",
              "          element.appendChild(docLink);\n",
              "        }\n",
              "      </script>\n",
              "    </div>\n",
              "  </div>\n",
              "  "
            ]
          },
          "metadata": {},
          "execution_count": 39
        }
      ],
      "source": [
        "df_person_data.dropna(subset=['age'], inplace=True)\n",
        "X = df_person_data.drop(['person_id','n_hours_playing'], axis=1) \n",
        "y = df_person_data['n_hours_playing']\n",
        "from sklearn import preprocessing\n",
        "x1 = X.values\n",
        "min_max_scaler = preprocessing.MinMaxScaler()\n",
        "x_scaled = min_max_scaler.fit_transform(x1)\n",
        "df_scaled = pd.DataFrame(x_scaled)\n",
        "df_scaled.head()"
      ],
      "id": "uQ34dZSon7BV"
    },
    {
      "cell_type": "code",
      "execution_count": 45,
      "metadata": {
        "colab": {
          "base_uri": "https://localhost:8080/"
        },
        "id": "hTQa6UHgn7BV",
        "outputId": "b57c0315-68b5-42bf-b157-8dee440d3179"
      },
      "outputs": [
        {
          "output_type": "stream",
          "name": "stdout",
          "text": [
            "Mean Squared Error: 3408.743597930921\n",
            "R2 Score: 0.8073126667092156\n"
          ]
        }
      ],
      "source": [
        "import pandas as pd\n",
        "from sklearn.linear_model import LinearRegression\n",
        "from sklearn.model_selection import train_test_split\n",
        "from sklearn.metrics import mean_squared_error\n",
        "from sklearn.metrics import r2_score\n",
        "from sklearn.metrics import accuracy_score, precision_score, recall_score, f1_score, confusion_matrix, matthews_corrcoef\n",
        "\n",
        "X_train, X_test, y_train, y_test = train_test_split(df_scaled.values, y, test_size=0.2, random_state=42)\n",
        "\n",
        "linear_reg = LinearRegression()\n",
        "\n",
        "linear_reg.fit(X_train, y_train)\n",
        "\n",
        "y_pred = linear_reg.predict(X_test)\n",
        "\n",
        "mse = mean_squared_error(y_test, y_pred)\n",
        "print('Mean Squared Error:', mse)\n",
        "\n",
        "r2 = r2_score(y_test, y_pred)\n",
        "print('R2 Score:', r2)"
      ],
      "id": "hTQa6UHgn7BV"
    },
    {
      "cell_type": "code",
      "execution_count": 42,
      "metadata": {
        "colab": {
          "base_uri": "https://localhost:8080/"
        },
        "id": "RIXvpLHPn7BW",
        "outputId": "dcf99cd7-03dc-46b0-de1d-765803c3e0b5"
      },
      "outputs": [
        {
          "output_type": "stream",
          "name": "stdout",
          "text": [
            "Mean Squared Error: 618.4330199971507\n",
            "R2 Score: 0.9650416037408771\n"
          ]
        }
      ],
      "source": [
        "from sklearn.ensemble import RandomForestRegressor\n",
        "rf_reg = RandomForestRegressor()\n",
        "\n",
        "rf_reg.fit(X_train, y_train)\n",
        "\n",
        "y_pred = rf_reg.predict(X_test)\n",
        "\n",
        "mse = mean_squared_error(y_test, y_pred)\n",
        "r2 = r2_score(y_test, y_pred)\n",
        "\n",
        "print('Mean Squared Error:', mse)\n",
        "print('R2 Score:', r2)"
      ],
      "id": "RIXvpLHPn7BW"
    },
    {
      "cell_type": "code",
      "execution_count": 44,
      "metadata": {
        "colab": {
          "base_uri": "https://localhost:8080/",
          "height": 472
        },
        "id": "7mNEaAR1n7BW",
        "outputId": "ab18ba09-ca1a-4f57-b930-97dc50a49480"
      },
      "outputs": [
        {
          "output_type": "display_data",
          "data": {
            "text/plain": [
              "<Figure size 640x480 with 1 Axes>"
            ],
            "image/png": "[encoded data removed]"
          },
          "metadata": {}
        }
      ],
      "source": [
        "import matplotlib.pyplot as plt\n",
        "\n",
        "plt.scatter(y_test, y_pred, color='blue', label='Actual vs Predicted')\n",
        "\n",
        "plt.plot([min(y_test), max(y_test)], [min(y_test), max(y_test)], color='yellow', label='Perfect Predictions')\n",
        "\n",
        "plt.xlabel('Actual Values')\n",
        "plt.ylabel('Predicted Values')\n",
        "plt.title('Predicted vs Actual Plot')\n",
        "\n",
        "plt.legend()\n",
        "plt.show()"
      ],
      "id": "7mNEaAR1n7BW"
    }
  ],
  "metadata": {
    "kernelspec": {
      "display_name": "Python 3",
      "language": "python",
      "name": "python3"
    },
    "language_info": {
      "codemirror_mode": {
        "name": "ipython",
        "version": 3
      },
      "file_extension": ".py",
      "mimetype": "text/x-python",
      "name": "python",
      "nbconvert_exporter": "python",
      "pygments_lexer": "ipython3",
      "version": "3.8.5"
    },
    "colab": {
      "provenance": [],
      "toc_visible": true
    }
  },
  "nbformat": 4,
  "nbformat_minor": 5
}